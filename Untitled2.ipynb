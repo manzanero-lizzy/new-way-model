{
 "cells": [
  {
   "cell_type": "code",
   "execution_count": 1,
   "id": "294059c4",
   "metadata": {},
   "outputs": [],
   "source": [
    "import matplotlib.pyplot as plt"
   ]
  },
  {
   "cell_type": "code",
   "execution_count": 2,
   "id": "2eae2ab9",
   "metadata": {},
   "outputs": [],
   "source": [
    "import numpy as np"
   ]
  },
  {
   "cell_type": "code",
   "execution_count": 3,
   "id": "790c3d10",
   "metadata": {},
   "outputs": [],
   "source": [
    "import os\n",
    "import cv2\n",
    "from PIL import Image"
   ]
  },
  {
   "cell_type": "code",
   "execution_count": null,
   "id": "4ded1732",
   "metadata": {},
   "outputs": [],
   "source": []
  },
  {
   "cell_type": "code",
   "execution_count": 4,
   "id": "26715ea7",
   "metadata": {},
   "outputs": [],
   "source": [
    "path = 'C:/Users/Eliza Marie/Desktop/THESIS/fish or not/train/'"
   ]
  },
  {
   "cell_type": "code",
   "execution_count": 5,
   "id": "54bbfbbd",
   "metadata": {},
   "outputs": [],
   "source": [
    "SIZE = 256\n",
    "dataset = []  #Many ways to handle data, you can use pandas. Here, we are using a list format.  \n",
    "label = []  #Place holders to define add labels. We will add 0 to all parasitized images and 1 to uninfected."
   ]
  },
  {
   "cell_type": "code",
   "execution_count": 6,
   "id": "fb988993",
   "metadata": {},
   "outputs": [],
   "source": [
    "fish_images = os.listdir(path + 'fish/')\n",
    "for i, image_name in enumerate(fish_images):    #Remember enumerate method adds a counter and returns the enumerate object\n",
    "    \n",
    "    if (image_name.split('.')[1] == 'png'):\n",
    "        image = cv2.imread(path + 'fish/' + image_name)\n",
    "        image = Image.fromarray(image, 'RGB')\n",
    "        image = image.resize((SIZE, SIZE))\n",
    "        dataset.append(np.array(image))\n",
    "        label.append(1)\n",
    "        \n",
    "notFish_images = os.listdir(path + 'not a fish/')\n",
    "for i, image_name in enumerate(notFish_images):\n",
    "    if (image_name.split('.')[1] == 'png'):\n",
    "        image = cv2.imread(path + 'not a fish/' + image_name)\n",
    "        image = Image.fromarray(image, 'RGB')\n",
    "        image = image.resize((SIZE, SIZE))\n",
    "        dataset.append(np.array(image))\n",
    "        label.append(0)"
   ]
  },
  {
   "cell_type": "code",
   "execution_count": 7,
   "id": "bc4f1b26",
   "metadata": {},
   "outputs": [
    {
     "name": "stdout",
     "output_type": "stream",
     "text": [
      "Dataset size is  (1204, 256, 256, 3)\n",
      "Label size is  (1204,)\n"
     ]
    }
   ],
   "source": [
    "dataset = np.array(dataset)\n",
    "label = np.array(label)\n",
    "print(\"Dataset size is \", dataset.shape)\n",
    "print(\"Label size is \", label.shape)"
   ]
  },
  {
   "cell_type": "code",
   "execution_count": 8,
   "id": "586ea71f",
   "metadata": {},
   "outputs": [
    {
     "name": "stdout",
     "output_type": "stream",
     "text": [
      "Train size is  (963, 256, 256, 3)\n",
      "Test size is  (241, 256, 256, 3)\n"
     ]
    }
   ],
   "source": [
    "from sklearn.model_selection import train_test_split\n",
    "X_train, X_test, y_train, y_test = train_test_split(dataset, label, test_size = 0.20, random_state = 0)\n",
    "print(\"Train size is \", X_train.shape)\n",
    "print(\"Test size is \", X_test.shape)"
   ]
  },
  {
   "cell_type": "code",
   "execution_count": 9,
   "id": "953f5c45",
   "metadata": {},
   "outputs": [],
   "source": [
    "X_train = X_train/255.0\n",
    "X_test = X_test/255.0"
   ]
  },
  {
   "cell_type": "code",
   "execution_count": 10,
   "id": "ecee164d",
   "metadata": {},
   "outputs": [],
   "source": [
    "INPUT_SHAPE = (SIZE, SIZE, 3)   #change to (SIZE, SIZE, 3)"
   ]
  },
  {
   "cell_type": "code",
   "execution_count": 11,
   "id": "edb052cb",
   "metadata": {},
   "outputs": [],
   "source": [
    "import numpy as np\n",
    "from keras import layers\n",
    "from tensorflow.keras.models import Sequential\n",
    "from keras.layers import Input, Dense, Activation,BatchNormalization, Flatten, Conv2D, MaxPooling2D, Dropout\n",
    "from keras.models import Model\n",
    "from keras.preprocessing import image\n",
    "from keras.preprocessing.image import ImageDataGenerator\n",
    "import matplotlib.pyplot as plt\n",
    "from matplotlib.pyplot import imshow\n",
    "import visualkeras"
   ]
  },
  {
   "cell_type": "code",
   "execution_count": 12,
   "id": "43a8235c",
   "metadata": {},
   "outputs": [],
   "source": [
    "import time\n",
    "import datetime\n",
    "import os\n",
    "import tensorflow as tf\n",
    "from tensorflow.keras.callbacks import TensorBoard"
   ]
  },
  {
   "cell_type": "code",
   "execution_count": 13,
   "id": "2ebe80d3",
   "metadata": {},
   "outputs": [],
   "source": [
    "    # Initialize model\n",
    "alexnet = Sequential()\n",
    "    \n",
    "    # Layer 1\n",
    "alexnet.add(Conv2D(96, (11, 11), strides = 4,name=\"conv0\", input_shape= INPUT_SHAPE,\n",
    "        padding='valid', kernel_initializer= 'he_normal'))\n",
    "alexnet.add(BatchNormalization(axis = 3 , name = \"bn0\"))\n",
    "alexnet.add(Activation('relu'))\n",
    "alexnet.add(MaxPooling2D(pool_size=(3, 3),  padding= 'valid', strides = (2,2),data_format= None, name = 'max0'))\n",
    "    \n",
    "    # Layer 2\n",
    "alexnet.add(Conv2D(256, (5, 5), strides = 1, padding='same', kernel_initializer= 'he_normal', name = 'conv1'))\n",
    "alexnet.add(BatchNormalization(axis = 3 ,name='bn1'))\n",
    "alexnet.add(Activation('relu'))\n",
    "alexnet.add(MaxPooling2D(pool_size=(3, 3),padding= 'valid', strides = (2,2),data_format= None, name = 'max1'))\n",
    "    \n",
    "    \n",
    "# Layer 3\n",
    "alexnet.add(Conv2D(384, (3, 3), strides = 1, padding='same', kernel_initializer= 'he_normal', name='conv2'))\n",
    "alexnet.add(BatchNormalization(axis = 3, name = 'bn2'))\n",
    "alexnet.add(Activation('relu'))\n",
    "\n",
    "# Layer 4\n",
    "alexnet.add(Conv2D(384, (3, 3), strides = 1, padding='same',kernel_initializer= 'he_normal', name='conv3'))\n",
    "alexnet.add(BatchNormalization(axis = 3, name = 'bn3'))\n",
    "alexnet.add(Activation('relu'))\n",
    "    \n",
    "# Layer 5\n",
    "alexnet.add(Conv2D(256, (3, 3), strides = 1, padding='same', kernel_initializer= 'he_normal', name = 'conv4'))\n",
    "alexnet.add(BatchNormalization(axis = 3 ,name='bn4'))\n",
    "alexnet.add(Activation('softmax'))\n",
    "    \n",
    "alexnet.add(MaxPooling2D(pool_size=(3, 3),padding= 'valid', strides = (2,2),name = 'max2'))\n",
    "    #alexnet.add(MaxPooling2D(pool_size=(2, 2),padding= 'valid', strides = 2,name = 'max2'))\n",
    "\n",
    "\n",
    "alexnet.add(Flatten())\n",
    "\n",
    "    #alexnet.add(Dropout(0.5))\n",
    "    \n",
    "alexnet.add(Dense(4096, activation = 'relu', name = \"fc0\"))\n",
    "    #alexnet.add(Dense(1024, activation = 'relu', name = \"fc0\"))\n",
    "\n",
    "alexnet.add(Dropout(0.5))\n",
    "    \n",
    "alexnet.add(Dense(4096, activation = 'relu', name = \"fc1\"))\n",
    "    #alexnet.add(Dense(1024, activation = 'relu', name = \"fc1\"))\n",
    "    \n",
    "alexnet.add(Dropout(0.5))\n",
    "    \n",
    "alexnet.add(Dense(1000, activation = 'relu'))\n",
    "    \n",
    "alexnet.add(Dense(1, activation = 'sigmoid', name = \"fc2\")) #change to softmax later"
   ]
  },
  {
   "cell_type": "code",
   "execution_count": 14,
   "id": "7a552902",
   "metadata": {},
   "outputs": [
    {
     "name": "stdout",
     "output_type": "stream",
     "text": [
      "Model: \"sequential\"\n",
      "_________________________________________________________________\n",
      " Layer (type)                Output Shape              Param #   \n",
      "=================================================================\n",
      " conv0 (Conv2D)              (None, 62, 62, 96)        34944     \n",
      "                                                                 \n",
      " bn0 (BatchNormalization)    (None, 62, 62, 96)        384       \n",
      "                                                                 \n",
      " activation (Activation)     (None, 62, 62, 96)        0         \n",
      "                                                                 \n",
      " max0 (MaxPooling2D)         (None, 30, 30, 96)        0         \n",
      "                                                                 \n",
      " conv1 (Conv2D)              (None, 30, 30, 256)       614656    \n",
      "                                                                 \n",
      " bn1 (BatchNormalization)    (None, 30, 30, 256)       1024      \n",
      "                                                                 \n",
      " activation_1 (Activation)   (None, 30, 30, 256)       0         \n",
      "                                                                 \n",
      " max1 (MaxPooling2D)         (None, 14, 14, 256)       0         \n",
      "                                                                 \n",
      " conv2 (Conv2D)              (None, 14, 14, 384)       885120    \n",
      "                                                                 \n",
      " bn2 (BatchNormalization)    (None, 14, 14, 384)       1536      \n",
      "                                                                 \n",
      " activation_2 (Activation)   (None, 14, 14, 384)       0         \n",
      "                                                                 \n",
      " conv3 (Conv2D)              (None, 14, 14, 384)       1327488   \n",
      "                                                                 \n",
      " bn3 (BatchNormalization)    (None, 14, 14, 384)       1536      \n",
      "                                                                 \n",
      " activation_3 (Activation)   (None, 14, 14, 384)       0         \n",
      "                                                                 \n",
      " conv4 (Conv2D)              (None, 14, 14, 256)       884992    \n",
      "                                                                 \n",
      " bn4 (BatchNormalization)    (None, 14, 14, 256)       1024      \n",
      "                                                                 \n",
      " activation_4 (Activation)   (None, 14, 14, 256)       0         \n",
      "                                                                 \n",
      " max2 (MaxPooling2D)         (None, 6, 6, 256)         0         \n",
      "                                                                 \n",
      " flatten (Flatten)           (None, 9216)              0         \n",
      "                                                                 \n",
      " fc0 (Dense)                 (None, 4096)              37752832  \n",
      "                                                                 \n",
      " dropout (Dropout)           (None, 4096)              0         \n",
      "                                                                 \n",
      " fc1 (Dense)                 (None, 4096)              16781312  \n",
      "                                                                 \n",
      " dropout_1 (Dropout)         (None, 4096)              0         \n",
      "                                                                 \n",
      " dense (Dense)               (None, 1000)              4097000   \n",
      "                                                                 \n",
      " fc2 (Dense)                 (None, 1)                 1001      \n",
      "                                                                 \n",
      "=================================================================\n",
      "Total params: 62,384,849\n",
      "Trainable params: 62,382,097\n",
      "Non-trainable params: 2,752\n",
      "_________________________________________________________________\n"
     ]
    }
   ],
   "source": [
    "alexnet.summary()"
   ]
  },
  {
   "cell_type": "code",
   "execution_count": 15,
   "id": "8fe1fbec",
   "metadata": {},
   "outputs": [],
   "source": [
    "from keras import optimizers\n",
    "sgdm = optimizers.SGD(learning_rate=0.01, decay=1e-6, momentum=0.9, nesterov=True)"
   ]
  },
  {
   "cell_type": "code",
   "execution_count": 16,
   "id": "bdfd10eb",
   "metadata": {},
   "outputs": [],
   "source": [
    "alexnet.compile(optimizer=sgdm, loss = 'binary_crossentropy' , \n",
    "                     metrics=['accuracy'])\n",
    "# tf.keras.optimizers.Adam(0.001)"
   ]
  },
  {
   "cell_type": "code",
   "execution_count": 17,
   "id": "219e5792",
   "metadata": {},
   "outputs": [
    {
     "name": "stdout",
     "output_type": "stream",
     "text": [
      "Epoch 1/4\n",
      "16/16 [==============================] - 1306s 48s/step - loss: 0.5242 - accuracy: 0.9252 - val_loss: 0.3061 - val_accuracy: 1.0000\n",
      "Epoch 2/4\n",
      "16/16 [==============================] - 179s 11s/step - loss: 0.0973 - accuracy: 1.0000 - val_loss: 0.0759 - val_accuracy: 1.0000\n",
      "Epoch 3/4\n",
      "16/16 [==============================] - 173s 11s/step - loss: 0.0096 - accuracy: 1.0000 - val_loss: 0.0362 - val_accuracy: 1.0000\n",
      "Epoch 4/4\n",
      "16/16 [==============================] - 147s 9s/step - loss: 0.0037 - accuracy: 1.0000 - val_loss: 0.0271 - val_accuracy: 1.0000\n"
     ]
    }
   ],
   "source": [
    "history = alexnet.fit(X_train, \n",
    "                         y_train, \n",
    "                         batch_size = 64, \n",
    "                         verbose = 1, \n",
    "                         epochs = 4,      \n",
    "                         validation_data=(X_test,y_test),\n",
    "                         shuffle = False\n",
    "                     )"
   ]
  },
  {
   "cell_type": "code",
   "execution_count": 18,
   "id": "3b311f26",
   "metadata": {},
   "outputs": [
    {
     "data": {
      "image/png": "[encoded data removed]",
      "text/plain": [
       "<Figure size 432x288 with 1 Axes>"
      ]
     },
     "metadata": {
      "needs_background": "light"
     },
     "output_type": "display_data"
    }
   ],
   "source": [
    "#plot the training and validation accuracy and loss at each epoch\n",
    "loss = history.history['loss']\n",
    "val_loss = history.history['val_loss']\n",
    "epochs = range(1, len(loss) + 1)\n",
    "plt.plot(epochs, loss, 'y', label='Training loss')\n",
    "plt.plot(epochs, val_loss, 'r', label='Validation loss')\n",
    "plt.title('Training and validation loss')\n",
    "plt.xlabel('Epochs')\n",
    "plt.ylabel('Loss')\n",
    "plt.legend()\n",
    "plt.show()"
   ]
  },
  {
   "cell_type": "code",
   "execution_count": 19,
   "id": "aecf86ba",
   "metadata": {},
   "outputs": [
    {
     "data": {
      "image/png": "[encoded data removed]",
      "text/plain": [
       "<Figure size 432x288 with 1 Axes>"
      ]
     },
     "metadata": {
      "needs_background": "light"
     },
     "output_type": "display_data"
    }
   ],
   "source": [
    "acc = history.history['accuracy']\n",
    "val_acc = history.history['val_accuracy']\n",
    "plt.plot(epochs, acc, 'y', label='Training acc')\n",
    "plt.plot(epochs, val_acc, 'r', label='Validation acc')\n",
    "plt.title('Training and validation accuracy')\n",
    "plt.xlabel('Epochs')\n",
    "plt.ylabel('Accuracy')\n",
    "plt.legend()\n",
    "plt.show()\n"
   ]
  },
  {
   "cell_type": "code",
   "execution_count": 36,
   "id": "144ec6b4",
   "metadata": {},
   "outputs": [
    {
     "name": "stdout",
     "output_type": "stream",
     "text": [
      "1/1 [==============================] - 0s 54ms/step\n",
      "The prediction for this image is:  [[0.9737078]]\n",
      "The actual label for this image is:  1\n"
     ]
    },
    {
     "data": {
      "image/png": "[encoded data removed]",
      "text/plain": [
       "<Figure size 432x288 with 1 Axes>"
      ]
     },
     "metadata": {
      "needs_background": "light"
     },
     "output_type": "display_data"
    }
   ],
   "source": [
    "n=239 #Select the index of image to be loaded for testing\n",
    "img = X_test[n]\n",
    "plt.imshow(img)\n",
    "input_img = np.expand_dims(img, axis=0) #Expand dims so the input is (num images, x, y, c)\n",
    "print(\"The prediction for this image is: \", alexnet.predict(input_img))\n",
    "print(\"The actual label for this image is: \", y_test[n])\n"
   ]
  },
  {
   "cell_type": "code",
   "execution_count": 22,
   "id": "15ff973b",
   "metadata": {},
   "outputs": [
    {
     "name": "stdout",
     "output_type": "stream",
     "text": [
      "8/8 [==============================] - 24s 928ms/step - loss: 0.0271 - accuracy: 1.0000\n",
      "Accuracy =  100.0 %\n"
     ]
    }
   ],
   "source": [
    "_, acc = alexnet.evaluate(X_test, y_test)\n",
    "print(\"Accuracy = \", (acc * 100.0), \"%\")\n"
   ]
  },
  {
   "cell_type": "code",
   "execution_count": 23,
   "id": "f815b489",
   "metadata": {},
   "outputs": [
    {
     "name": "stdout",
     "output_type": "stream",
     "text": [
      "8/8 [==============================] - 8s 760ms/step\n",
      "[[241]]\n"
     ]
    }
   ],
   "source": [
    "mythreshold=0.885\n",
    "from sklearn.metrics import confusion_matrix\n",
    "\n",
    "y_pred = (alexnet.predict(X_test)>= mythreshold).astype(int)\n",
    "cm=confusion_matrix(y_test, y_pred)  \n",
    "print(cm)\n"
   ]
  },
  {
   "cell_type": "code",
   "execution_count": 38,
   "id": "bc77a081",
   "metadata": {},
   "outputs": [
    {
     "name": "stdout",
     "output_type": "stream",
     "text": [
      "8/8 [==============================] - 5s 643ms/step\n"
     ]
    },
    {
     "name": "stderr",
     "output_type": "stream",
     "text": [
      "C:\\Users\\Eliza Marie\\anaconda3\\lib\\site-packages\\sklearn\\metrics\\_ranking.py:941: UndefinedMetricWarning: No negative samples in y_true, false positive value should be meaningless\n",
      "  warnings.warn(\"No negative samples in y_true, \"\n"
     ]
    },
    {
     "data": {
      "image/png": "[encoded data removed]",
      "text/plain": [
       "<Figure size 432x288 with 1 Axes>"
      ]
     },
     "metadata": {
      "needs_background": "light"
     },
     "output_type": "display_data"
    }
   ],
   "source": [
    "#ROC\n",
    "from sklearn.metrics import roc_curve\n",
    "y_preds = alexnet.predict(X_test).ravel()\n",
    "\n",
    "fpr, tpr, thresholds = roc_curve(y_test, y_preds)\n",
    "plt.figure(1)\n",
    "plt.plot([0, 1], [0, 1], 'y--')\n",
    "plt.plot(fpr, tpr, marker='.')\n",
    "plt.xlabel('False positive rate')\n",
    "plt.ylabel('True positive rate')\n",
    "plt.title('ROC curve')\n",
    "plt.show()"
   ]
  },
  {
   "cell_type": "code",
   "execution_count": 39,
   "id": "2f630998",
   "metadata": {},
   "outputs": [
    {
     "name": "stdout",
     "output_type": "stream",
     "text": [
      "Ideal threshold is:  35    0.970063\n",
      "Name: thresholds, dtype: float32\n"
     ]
    }
   ],
   "source": [
    "import pandas as pd\n",
    "i = np.arange(len(tpr)) \n",
    "roc = pd.DataFrame({'tf' : pd.Series(tpr-(1-fpr), index=i), 'thresholds' : pd.Series(thresholds, index=i)})\n",
    "ideal_roc_thresh = roc.iloc[(roc.tf-0).abs().argsort()[:1]]  #Locate the point where the value is close to 0\n",
    "print(\"Ideal threshold is: \", ideal_roc_thresh['thresholds']) "
   ]
  },
  {
   "cell_type": "code",
   "execution_count": 40,
   "id": "cd5aa749",
   "metadata": {},
   "outputs": [
    {
     "name": "stdout",
     "output_type": "stream",
     "text": [
      "Area under curve, AUC =  nan\n"
     ]
    }
   ],
   "source": [
    "from sklearn.metrics import auc\n",
    "auc_value = auc(fpr, tpr)\n",
    "print(\"Area under curve, AUC = \", auc_value)\n"
   ]
  },
  {
   "cell_type": "code",
   "execution_count": 41,
   "id": "39d0ae9a",
   "metadata": {},
   "outputs": [],
   "source": [
    "alexnet.save('models/fishornot_model_4epochs.h5') "
   ]
  },
  {
   "cell_type": "code",
   "execution_count": 42,
   "id": "fb90863a",
   "metadata": {},
   "outputs": [],
   "source": [
    "#Code to convert h5 to tflite\n",
    "import tensorflow as tf"
   ]
  },
  {
   "cell_type": "code",
   "execution_count": 43,
   "id": "0de0ce1e",
   "metadata": {},
   "outputs": [],
   "source": [
    "model =tf.keras.models.load_model(\"models/fishornot_model_4epochs.h5\")"
   ]
  },
  {
   "cell_type": "code",
   "execution_count": 44,
   "id": "f591535a",
   "metadata": {},
   "outputs": [],
   "source": [
    "#Convert to tflite\n",
    "converter = tf.lite.TFLiteConverter.from_keras_model(model)"
   ]
  },
  {
   "cell_type": "code",
   "execution_count": null,
   "id": "c54cfcdb",
   "metadata": {},
   "outputs": [
    {
     "name": "stderr",
     "output_type": "stream",
     "text": [
      "WARNING:absl:Found untraced functions such as _jit_compiled_convolution_op, _jit_compiled_convolution_op, _jit_compiled_convolution_op, _jit_compiled_convolution_op, _jit_compiled_convolution_op while saving (showing 5 of 5). These functions will not be directly callable after loading.\n"
     ]
    },
    {
     "name": "stdout",
     "output_type": "stream",
     "text": [
      "INFO:tensorflow:Assets written to: C:\\Users\\ELIZAM~1\\AppData\\Local\\Temp\\tmpdav3f0n7\\assets\n"
     ]
    },
    {
     "name": "stderr",
     "output_type": "stream",
     "text": [
      "INFO:tensorflow:Assets written to: C:\\Users\\ELIZAM~1\\AppData\\Local\\Temp\\tmpdav3f0n7\\assets\n"
     ]
    }
   ],
   "source": [
    "converter.optimizations = [tf.lite.Optimize.DEFAULT] #Uses default optimization strategy to reduce the model size\n",
    "tflite_model = converter.convert()\n",
    "open(\"models/fishornot_model_4epochs.tflite\", \"wb\").write(tflite_model)"
   ]
  },
  {
   "cell_type": "code",
   "execution_count": null,
   "id": "e4d94b5a",
   "metadata": {},
   "outputs": [],
   "source": [
    "ss         "
   ]
  }
 ],
 "metadata": {
  "kernelspec": {
   "display_name": "Python 3 (ipykernel)",
   "language": "python",
   "name": "python3"
  },
  "language_info": {
   "codemirror_mode": {
    "name": "ipython",
    "version": 3
   },
   "file_extension": ".py",
   "mimetype": "text/x-python",
   "name": "python",
   "nbconvert_exporter": "python",
   "pygments_lexer": "ipython3",
   "version": "3.9.7"
  }
 },
 "nbformat": 4,
 "nbformat_minor": 5
}
